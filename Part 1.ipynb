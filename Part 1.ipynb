{
 "cells": [
  {
   "cell_type": "markdown",
   "id": "1327051a",
   "metadata": {},
   "source": [
    "# Assignment 2"
   ]
  },
  {
   "cell_type": "code",
   "execution_count": 2,
   "id": "95fd039a",
   "metadata": {},
   "outputs": [
    {
     "name": "stdout",
     "output_type": "stream",
     "text": [
      "Enter product name: headphones\n",
      "Enter product price: 400\n",
      "Enter quantity: 2\n",
      "\n",
      "Order Details:\n",
      "--------------\n",
      "Product: headphones\n",
      "Price: 400.0\n",
      "Quantity: 2\n",
      "Total: 800.0\n",
      "\n",
      "Enter the sales value: 900\n",
      "\n",
      "Sales value exceeds order total.\n"
     ]
    }
   ],
   "source": [
    "# Get product details from the user\n",
    "product_name = input(\"Enter product name: \")\n",
    "product_price = float(input(\"Enter product price: \"))\n",
    "product_quantity = int(input(\"Enter quantity: \"))\n",
    "\n",
    "# Calculate order total\n",
    "order_total = product_price * product_quantity\n",
    "\n",
    "# Print order details\n",
    "print(\"\\nOrder Details:\")\n",
    "print(\"--------------\")\n",
    "print(\"Product:\", product_name)\n",
    "print(\"Price:\", product_price)\n",
    "print(\"Quantity:\", product_quantity)\n",
    "print(\"Total:\", order_total)\n",
    "\n",
    "# Track sales\n",
    "sales_value = float(input(\"\\nEnter the sales value: \"))\n",
    "\n",
    "# Check if the sales value is greater than the order total\n",
    "if sales_value > order_total:\n",
    "    print(\"\\nSales value exceeds order total.\")\n",
    "elif sales_value == order_total:\n",
    "    print(\"\\nSales value matches order total.\")\n",
    "else:\n",
    "    print(\"\\nSales value is less than order total.\")"
   ]
  },
  {
   "cell_type": "code",
   "execution_count": null,
   "id": "9d7a277b",
   "metadata": {},
   "outputs": [],
   "source": []
  },
  {
   "cell_type": "code",
   "execution_count": null,
   "id": "e81ac8ef",
   "metadata": {},
   "outputs": [],
   "source": []
  },
  {
   "cell_type": "code",
   "execution_count": null,
   "id": "d15ea5ea",
   "metadata": {},
   "outputs": [],
   "source": []
  },
  {
   "cell_type": "code",
   "execution_count": null,
   "id": "c040c69c",
   "metadata": {},
   "outputs": [],
   "source": []
  }
 ],
 "metadata": {
  "kernelspec": {
   "display_name": "Python 3 (ipykernel)",
   "language": "python",
   "name": "python3"
  },
  "language_info": {
   "codemirror_mode": {
    "name": "ipython",
    "version": 3
   },
   "file_extension": ".py",
   "mimetype": "text/x-python",
   "name": "python",
   "nbconvert_exporter": "python",
   "pygments_lexer": "ipython3",
   "version": "3.11.5"
  }
 },
 "nbformat": 4,
 "nbformat_minor": 5
}
